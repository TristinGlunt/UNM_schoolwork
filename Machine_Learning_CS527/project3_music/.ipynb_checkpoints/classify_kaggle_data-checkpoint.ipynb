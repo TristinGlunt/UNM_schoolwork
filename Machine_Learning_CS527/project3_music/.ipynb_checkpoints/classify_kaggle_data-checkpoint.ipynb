{
 "cells": [
  {
   "cell_type": "code",
   "execution_count": 2,
   "metadata": {},
   "outputs": [],
   "source": [
    "from keras import layers\n",
    "from keras.layers import Input, Dense, Activation, ZeroPadding2D, BatchNormalization, Flatten, Conv2D\n",
    "from keras.layers import AveragePooling2D, MaxPooling2D, Dropout, GlobalMaxPooling2D, GlobalAveragePooling2D\n",
    "from keras.models import Sequential\n",
    "from keras.preprocessing import image\n",
    "from keras.utils import layer_utils\n",
    "from keras.optimizers import SGD\n",
    "from keras.models import load_model\n",
    "\n",
    "import numpy as np"
   ]
  },
  {
   "cell_type": "code",
   "execution_count": 13,
   "metadata": {},
   "outputs": [],
   "source": [
    "import os"
   ]
  },
  {
   "cell_type": "code",
   "execution_count": 4,
   "metadata": {},
   "outputs": [],
   "source": [
    "# Load in pre-trained model for music classification\n",
    "model = load_model(\"trained_music_classifier.h5\")"
   ]
  },
  {
   "cell_type": "code",
   "execution_count": 6,
   "metadata": {},
   "outputs": [],
   "source": [
    "X_test = np.load(\"X_test.dat\")\n",
    "# normalize testing data\n",
    "X_test = X_test / 255"
   ]
  },
  {
   "cell_type": "code",
   "execution_count": 8,
   "metadata": {},
   "outputs": [
    {
     "name": "stdout",
     "output_type": "stream",
     "text": [
      "100/100 [==============================] - 15s    \n"
     ]
    }
   ],
   "source": [
    "# make predictions on validation data from Kaggle\n",
    "predictions = model.predict_classes(X_test, verbose=1)"
   ]
  },
  {
   "cell_type": "markdown",
   "metadata": {},
   "source": [
    "## Converting predictions to genre names"
   ]
  },
  {
   "cell_type": "code",
   "execution_count": 9,
   "metadata": {},
   "outputs": [
    {
     "data": {
      "text/plain": [
       "array([6, 0, 1, 5, 5, 1, 0, 5, 5, 5, 7, 5, 3, 3, 2, 2, 0, 3, 6, 8, 0, 3, 7,\n",
       "       3, 4, 6, 4, 5, 0, 0, 6, 9, 4, 1, 9, 4, 8, 2, 9, 5, 6, 6, 5, 9, 1, 4,\n",
       "       3, 2, 5, 2, 7, 6, 3, 8, 7, 2, 6, 6, 3, 3, 0, 7, 4, 6, 7, 6, 4, 3, 5,\n",
       "       9, 4, 2, 1, 0, 5, 4, 6, 8, 2, 0, 3, 0, 2, 6, 4, 0, 7, 2, 9, 9, 3, 3,\n",
       "       5, 9, 1, 6, 8, 1, 7, 4], dtype=int64)"
      ]
     },
     "execution_count": 9,
     "metadata": {},
     "output_type": "execute_result"
    }
   ],
   "source": [
    "predictions"
   ]
  },
  {
   "cell_type": "code",
   "execution_count": 10,
   "metadata": {},
   "outputs": [],
   "source": [
    "prediction_names = []\n",
    "\n",
    "for prediction in predictions:\n",
    "    if prediction == 0:\n",
    "        prediction_names.append(\"blues\")\n",
    "    elif prediction == 1:\n",
    "        prediction_names.append(\"classical\")\n",
    "    elif prediction == 2:\n",
    "        prediction_names.append(\"country\")\n",
    "    elif prediction == 3:\n",
    "        prediction_names.append(\"disco\")\n",
    "    elif prediction == 4:\n",
    "        prediction_names.append(\"hiphop\")\n",
    "    elif prediction == 5:\n",
    "        prediction_names.append(\"jazz\")\n",
    "    elif prediction == 6:\n",
    "        prediction_names.append(\"metal\")\n",
    "    elif prediction == 7:\n",
    "        prediction_names.append(\"pop\")\n",
    "    elif prediction == 8:\n",
    "        prediction_names.append(\"reggae\")\n",
    "    else:\n",
    "        prediction_names.append(\"rock\")"
   ]
  },
  {
   "cell_type": "code",
   "execution_count": 11,
   "metadata": {},
   "outputs": [
    {
     "data": {
      "text/plain": [
       "['metal',\n",
       " 'blues',\n",
       " 'classical',\n",
       " 'jazz',\n",
       " 'jazz',\n",
       " 'classical',\n",
       " 'blues',\n",
       " 'jazz',\n",
       " 'jazz',\n",
       " 'jazz',\n",
       " 'pop',\n",
       " 'jazz',\n",
       " 'disco',\n",
       " 'disco',\n",
       " 'country',\n",
       " 'country',\n",
       " 'blues',\n",
       " 'disco',\n",
       " 'metal',\n",
       " 'reggae',\n",
       " 'blues',\n",
       " 'disco',\n",
       " 'pop',\n",
       " 'disco',\n",
       " 'hiphop',\n",
       " 'metal',\n",
       " 'hiphop',\n",
       " 'jazz',\n",
       " 'blues',\n",
       " 'blues',\n",
       " 'metal',\n",
       " 'rock',\n",
       " 'hiphop',\n",
       " 'classical',\n",
       " 'rock',\n",
       " 'hiphop',\n",
       " 'reggae',\n",
       " 'country',\n",
       " 'rock',\n",
       " 'jazz',\n",
       " 'metal',\n",
       " 'metal',\n",
       " 'jazz',\n",
       " 'rock',\n",
       " 'classical',\n",
       " 'hiphop',\n",
       " 'disco',\n",
       " 'country',\n",
       " 'jazz',\n",
       " 'country',\n",
       " 'pop',\n",
       " 'metal',\n",
       " 'disco',\n",
       " 'reggae',\n",
       " 'pop',\n",
       " 'country',\n",
       " 'metal',\n",
       " 'metal',\n",
       " 'disco',\n",
       " 'disco',\n",
       " 'blues',\n",
       " 'pop',\n",
       " 'hiphop',\n",
       " 'metal',\n",
       " 'pop',\n",
       " 'metal',\n",
       " 'hiphop',\n",
       " 'disco',\n",
       " 'jazz',\n",
       " 'rock',\n",
       " 'hiphop',\n",
       " 'country',\n",
       " 'classical',\n",
       " 'blues',\n",
       " 'jazz',\n",
       " 'hiphop',\n",
       " 'metal',\n",
       " 'reggae',\n",
       " 'country',\n",
       " 'blues',\n",
       " 'disco',\n",
       " 'blues',\n",
       " 'country',\n",
       " 'metal',\n",
       " 'hiphop',\n",
       " 'blues',\n",
       " 'pop',\n",
       " 'country',\n",
       " 'rock',\n",
       " 'rock',\n",
       " 'disco',\n",
       " 'disco',\n",
       " 'jazz',\n",
       " 'rock',\n",
       " 'classical',\n",
       " 'metal',\n",
       " 'reggae',\n",
       " 'classical',\n",
       " 'pop',\n",
       " 'hiphop']"
      ]
     },
     "execution_count": 11,
     "metadata": {},
     "output_type": "execute_result"
    }
   ],
   "source": [
    "prediction_names"
   ]
  },
  {
   "cell_type": "code",
   "execution_count": 16,
   "metadata": {},
   "outputs": [
    {
     "name": "stdout",
     "output_type": "stream",
     "text": [
      "validation00596.au\n",
      "validation02436.au\n",
      "validation02930.au\n",
      "validation03364.au\n",
      "validation03550.au\n",
      "validation04625.au\n",
      "validation07561.au\n",
      "validation07642.au\n",
      "validation09065.au\n",
      "validation09885.au\n",
      "validation12150.au\n",
      "validation13350.au\n",
      "validation16676.au\n",
      "validation17817.au\n",
      "validation18392.au\n",
      "validation18794.au\n",
      "validation18828.au\n",
      "validation19082.au\n",
      "validation21589.au\n",
      "validation23193.au\n",
      "validation23211.au\n",
      "validation23301.au\n",
      "validation24620.au\n",
      "validation25407.au\n",
      "validation26050.au\n",
      "validation26581.au\n",
      "validation28540.au\n",
      "validation28558.au\n",
      "validation29001.au\n",
      "validation29659.au\n",
      "validation30482.au\n",
      "validation30768.au\n",
      "validation32510.au\n",
      "validation32787.au\n",
      "validation33033.au\n",
      "validation33529.au\n",
      "validation34800.au\n",
      "validation34835.au\n",
      "validation34938.au\n",
      "validation36126.au\n",
      "validation39797.au\n",
      "validation41870.au\n",
      "validation43948.au\n",
      "validation44485.au\n",
      "validation47303.au\n",
      "validation49246.au\n",
      "validation51339.au\n",
      "validation51932.au\n",
      "validation52165.au\n",
      "validation52376.au\n",
      "validation53339.au\n",
      "validation54199.au\n",
      "validation56037.au\n",
      "validation60352.au\n",
      "validation62461.au\n",
      "validation62917.au\n",
      "validation64717.au\n",
      "validation65355.au\n",
      "validation66836.au\n",
      "validation67898.au\n",
      "validation68246.au\n",
      "validation68504.au\n",
      "validation68600.au\n",
      "validation69645.au\n",
      "validation70325.au\n",
      "validation70514.au\n",
      "validation70521.au\n",
      "validation70709.au\n",
      "validation71178.au\n",
      "validation71558.au\n",
      "validation72738.au\n",
      "validation72918.au\n",
      "validation73325.au\n",
      "validation73749.au\n",
      "validation76427.au\n",
      "validation76541.au\n",
      "validation77219.au\n",
      "validation79401.au\n",
      "validation80325.au\n",
      "validation80446.au\n",
      "validation80480.au\n",
      "validation81197.au\n",
      "validation84038.au\n",
      "validation86647.au\n",
      "validation87593.au\n",
      "validation87812.au\n",
      "validation88839.au\n",
      "validation89176.au\n",
      "validation89749.au\n",
      "validation91278.au\n",
      "validation91579.au\n",
      "validation93577.au\n",
      "validation94066.au\n",
      "validation94863.au\n",
      "validation95021.au\n",
      "validation95763.au\n",
      "validation96483.au\n",
      "validation97080.au\n",
      "validation97638.au\n",
      "validation97760.au\n"
     ]
    }
   ],
   "source": [
    "list_of_file_names = []\n",
    "for file in os.listdir(os.getcwd() + \"/validation_pngfiles\"):\n",
    "    file = file.replace(\"png\", \"au\")\n",
    "    print(file)\n",
    "    list_of_file_names.append(file)"
   ]
  },
  {
   "cell_type": "code",
   "execution_count": null,
   "metadata": {},
   "outputs": [],
   "source": [
    "output_file = open(\"output.csv\", \"w\")\n",
    "print(\"Writing to file: %s\" % file_name)\n",
    "output_file.write(\"id,class\\n\")\n",
    "\n",
    "i = 0\n",
    "for prediction in predictions:\n",
    "    index = starting_num + i\n",
    "    output_file.write(\"%d,%d\\n\" % (index, int(predictions[i])))\n",
    "    i += 1\n",
    "\n",
    "output_file.close()"
   ]
  }
 ],
 "metadata": {
  "kernelspec": {
   "display_name": "Python 3",
   "language": "python",
   "name": "python3"
  },
  "language_info": {
   "codemirror_mode": {
    "name": "ipython",
    "version": 3
   },
   "file_extension": ".py",
   "mimetype": "text/x-python",
   "name": "python",
   "nbconvert_exporter": "python",
   "pygments_lexer": "ipython3",
   "version": "3.6.3"
  }
 },
 "nbformat": 4,
 "nbformat_minor": 2
}
