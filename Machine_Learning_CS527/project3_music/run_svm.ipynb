{
 "cells": [
  {
   "cell_type": "code",
   "execution_count": 1,
   "metadata": {},
   "outputs": [],
   "source": [
    "from sklearn import svm\n",
    "import numpy as np\n"
   ]
  },
  {
   "cell_type": "code",
   "execution_count": 3,
   "metadata": {},
   "outputs": [],
   "source": [
    "X_train = np.load(\"X_train_split_2.dat\")\n",
    "y_train = np.load(\"y_train_split_2.dat\")"
   ]
  },
  {
   "cell_type": "code",
   "execution_count": 4,
   "metadata": {},
   "outputs": [],
   "source": [
    "from sklearn.utils import shuffle\n",
    "X_train, y_train = shuffle(X_train, y_train)"
   ]
  },
  {
   "cell_type": "code",
   "execution_count": 5,
   "metadata": {},
   "outputs": [
    {
     "name": "stdout",
     "output_type": "stream",
     "text": [
      "(13500, 124, 174)\n",
      "(13500, 10)\n",
      "13500\n",
      "(13500, 21576)\n",
      "(135000,)\n"
     ]
    }
   ],
   "source": [
    "X_train = X_train/255\n",
    "\n",
    "print(X_train.shape)\n",
    "print(y_train.shape)\n",
    "X_train_size = len(X_train)\n",
    "print(X_train_size)\n",
    "\n",
    "# This reduces dimensionality by 1 (i.e. 3d to 2d)\n",
    "X_train = X_train.reshape(X_train_size, -1)\n",
    "y_train = y_train.reshape(-1, 1)\n",
    "y_train = np.ravel(y_train)\n",
    "print(X_train.shape)\n",
    "print(y_train.shape)"
   ]
  },
  {
   "cell_type": "code",
   "execution_count": 7,
   "metadata": {},
   "outputs": [
    {
     "name": "stdout",
     "output_type": "stream",
     "text": [
      "Validation x train set:(2700, 21576)\n",
      "X train set:(10800, 21576)\n",
      "Validation y train set:(124200,)\n",
      "Y train set:(10800,)\n"
     ]
    }
   ],
   "source": [
    "training_set_size = int(X_train.shape[0] * .80)\n",
    "\n",
    "# split data into validation set\n",
    "X_train_validation = X_train[training_set_size:, :]\n",
    "y_train_validation = y_train[training_set_size:]\n",
    "y_train = y_train[:training_set_size]\n",
    "X_train = X_train[:training_set_size, :]\n",
    "print(\"Validation x train set:\" + str(X_train_validation.shape))\n",
    "print(\"X train set:\" + str(X_train.shape))\n",
    "print(\"Validation y train set:\" + str(y_train_validation.shape))\n",
    "print(\"Y train set:\" + str(y_train.shape))"
   ]
  },
  {
   "cell_type": "code",
   "execution_count": null,
   "metadata": {},
   "outputs": [
    {
     "name": "stdout",
     "output_type": "stream",
     "text": [
      "[[0.00392157 0.         0.         ... 0.75686275 0.94509804 0.8627451 ]\n",
      " [0.         0.         0.         ... 0.41176471 0.49019608 0.5254902 ]\n",
      " [0.23137255 0.3372549  0.42352941 ... 0.92156863 0.94509804 0.92156863]\n",
      " ...\n",
      " [0.         0.         0.         ... 0.78039216 0.88235294 0.84705882]\n",
      " [0.04313725 0.         0.         ... 0.74117647 0.59607843 0.73333333]\n",
      " [0.08627451 0.01568627 0.04705882 ... 0.72156863 0.56862745 0.72156863]]\n",
      "[0 0 0 ... 0 0 0]\n"
     ]
    }
   ],
   "source": [
    "# X = X_train, Y = y_train\n",
    "clf = svm.SVC(gamma=0.001)\n",
    "clf.fit(X_train, y_train)\n",
    "predictions = clf.predict(X_train_validation)\n",
    "print(predictions)"
   ]
  },
  {
   "cell_type": "code",
   "execution_count": null,
   "metadata": {},
   "outputs": [],
   "source": []
  }
 ],
 "metadata": {
  "kernelspec": {
   "display_name": "Python 3",
   "language": "python",
   "name": "python3"
  },
  "language_info": {
   "codemirror_mode": {
    "name": "ipython",
    "version": 3
   },
   "file_extension": ".py",
   "mimetype": "text/x-python",
   "name": "python",
   "nbconvert_exporter": "python",
   "pygments_lexer": "ipython3",
   "version": "3.6.6"
  }
 },
 "nbformat": 4,
 "nbformat_minor": 2
}
